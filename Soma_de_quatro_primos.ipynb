{
  "nbformat": 4,
  "nbformat_minor": 0,
  "metadata": {
    "colab": {
      "name": "Soma de quatro primos.ipynb",
      "provenance": [],
      "authorship_tag": "ABX9TyO0KoHUmNO7xejSHLQhViui",
      "include_colab_link": true
    },
    "kernelspec": {
      "name": "python3",
      "display_name": "Python 3"
    },
    "language_info": {
      "name": "python"
    }
  },
  "cells": [
    {
      "cell_type": "markdown",
      "metadata": {
        "id": "view-in-github",
        "colab_type": "text"
      },
      "source": [
        "<a href=\"https://colab.research.google.com/github/nascimentoliveira/Soma-de-quatro-primos/blob/main/Soma_de_quatro_primos.ipynb\" target=\"_parent\"><img src=\"https://colab.research.google.com/assets/colab-badge.svg\" alt=\"Open In Colab\"/></a>"
      ]
    },
    {
      "cell_type": "markdown",
      "source": [
        "Inspired by Problem #10168 - Summation of Four Primes in\n",
        "\n",
        "https://onlinejudge.org/external/101/10168.pdf\n",
        "\n",
        "#Soma de Quatro Primos\n",
        "\n",
        "Este problema busca transformar qualquer número natural na soma de 4 números primos.\n",
        "\n",
        "Para encontrar a solução, lançaremos mão da conjectura de Goldbach, que foi proposta pelo matemático prussiano Christian Goldbach.\n",
        "Trata-se de um dos problemas mais antigos não resolvidos da teoria dos números.\n",
        "\n",
        "> ***todo número par maior que 2 pode ser representado pela soma de dois números primos.***\n",
        "\n",
        "Por exemplo: \n",
        "\n",
        "* $4 = 2 + 2$;\n",
        "* $6 = 3 + 3$;\n",
        "* $8 = 5 + 3$;\n",
        "* $10 = 3 + 7$;\n",
        "* $12 = 5 + 7$;\n",
        "* $14 = 3 + 11$ ou $7 + 7$;\n",
        "* $16 = 3 + 13$ ou $5 + 11$;\n",
        "* etc.\n",
        "\n",
        "Experimentos realizados em computadores já confirmaram a conjectura de Goldbach para muitos números. No entanto, a efetiva demonstração matemática ainda não ocorreu.\n",
        "\n",
        "Evidentemente, como número $2$ é considerado o menor primo, o menor número que conseguimos tranformar na soma de 4 primos é o $8 = 2 + 2 + 2 + 2$.\n",
        "\n",
        "Além disso, vale levar em conta o que o teorema de Euclides afirma:\n",
        "\n",
        "> ***O conjunto dos números primos é infinito.***\n",
        "\n",
        "Leonhard Euler demonstrou o teorema de Euclides apoiando-se no teorema fundamental da aritmética: \n",
        "\n",
        "> ***Cada número tem uma única fatorização prima.***\n",
        "\n"
      ],
      "metadata": {
        "id": "_rwnp5vziZMZ"
      }
    },
    {
      "cell_type": "markdown",
      "source": [
        "Se cada número tem uma fatorização prima única, desenvolvemos uma função que encontra todos os fatores primos do número inteiro passado como argumento."
      ],
      "metadata": {
        "id": "CaZkRrqLYLeD"
      }
    },
    {
      "cell_type": "code",
      "source": [
        "#Python 3 script to calculate prime factors of N\n",
        "def factorization(number):\n",
        "\n",
        "    #unexpected parameter\n",
        "    if (number < 2 or type(number) != int):\n",
        "        print(\"Expected positive values (natural number, starting at 2)!\")\n",
        "        return \n",
        "\n",
        "    factors = list()\n",
        "    divisor = 2\n",
        "\n",
        "    while (divisor * divisor <= number):\n",
        "        if (number % divisor == 0):\n",
        "            number = int(number/divisor)\n",
        "            factors.append(str(divisor))\n",
        "        else:\n",
        "            if (divisor == 2): divisor += 1\n",
        "            else: divisor += 2\n",
        "        \n",
        "    if (number > 1):\n",
        "        factors.append(str(number))\n",
        "\n",
        "    return factors"
      ],
      "metadata": {
        "id": "vmlERQF3nJbe"
      },
      "execution_count": 1,
      "outputs": []
    },
    {
      "cell_type": "markdown",
      "source": [
        "Output:"
      ],
      "metadata": {
        "id": "UsEYTZlUYro8"
      }
    },
    {
      "cell_type": "code",
      "source": [
        "from time import time\n",
        "startTime = time()\n",
        "\n",
        "number = 1024\n",
        "result = factorization(number)\n",
        "\n",
        "if (result != None):\n",
        "    print(\"Prime factors of \" + str(number) + \":\", \", \".join(result))\n",
        "\n",
        "endTime = time()\n",
        "print(\"\\n⏱️ Runtime: \" + str(endTime - startTime)[:7] + \" seconds.\")"
      ],
      "metadata": {
        "colab": {
          "base_uri": "https://localhost:8080/"
        },
        "id": "wForokfyYF2D",
        "outputId": "cfde8366-9e56-4373-f1d3-5e599aee60e8"
      },
      "execution_count": 2,
      "outputs": [
        {
          "output_type": "stream",
          "name": "stdout",
          "text": [
            "Prime factors of 1024: 2, 2, 2, 2, 2, 2, 2, 2, 2, 2\n",
            "\n",
            "⏱️ Runtime: 0.00769 seconds.\n"
          ]
        }
      ]
    },
    {
      "cell_type": "markdown",
      "source": [
        "Agora que sabemos os fatores primos de qualquer número natural maior que 1, podemos determinar se ele é um número primo ou não. De maneira simplificada:\n",
        "\n",
        "> ***Um número primo é todo o número com dois e somente dois divisores, ele próprio e a unidade.***\n",
        "\n",
        "Trazendo para a nossa implementação, seria o número que contém somente um elemento na sua lista de fatores primos, ele mesmo, já que o divisor 1 não é chamado primo.\n",
        "\n",
        "Em seguida, uma função que busca a quantidade de fatores primos de determinado número e indica o resultado do seu teste de primalidade."
      ],
      "metadata": {
        "id": "5i8w-vKOZUN6"
      }
    },
    {
      "cell_type": "code",
      "source": [
        "#Python 3 script that determines the primality of a number\n",
        "def isPrime(number):\n",
        "\n",
        "    #unexpected parameter\n",
        "    if (number < 2 or type(number) != int):\n",
        "        print(\"Expected positive values (natural number, starting at 2)!\")\n",
        "        return\n",
        "\n",
        "    if (len(factorization(number)) == 1):\n",
        "        return True\n",
        "    else:\n",
        "        return False"
      ],
      "metadata": {
        "id": "PmCINkuo0SLB"
      },
      "execution_count": 3,
      "outputs": []
    },
    {
      "cell_type": "markdown",
      "source": [
        "Output:"
      ],
      "metadata": {
        "id": "qOUcsDdvb04l"
      }
    },
    {
      "cell_type": "code",
      "source": [
        "from time import time\n",
        "startTime = time()\n",
        "\n",
        "number = 97\n",
        "result = isPrime(number)\n",
        "if (result != None):\n",
        "    print(\"The number \" + str(number) + \" is\", 'prime.' if isPrime(number) else 'not prime.')\n",
        "\n",
        "endTime = time()\n",
        "print(\"\\n⏱️ Runtime: \" + str(endTime - startTime)[:7] + \" seconds.\")"
      ],
      "metadata": {
        "colab": {
          "base_uri": "https://localhost:8080/"
        },
        "id": "IM6KKNZ9b6uM",
        "outputId": "e81c1c66-1ecb-45ff-c244-27b64eeec236"
      },
      "execution_count": 4,
      "outputs": [
        {
          "output_type": "stream",
          "name": "stdout",
          "text": [
            "The number 97 is prime.\n",
            "\n",
            "⏱️ Runtime: 0.00256 seconds.\n"
          ]
        }
      ]
    },
    {
      "cell_type": "markdown",
      "source": [
        "Já sabemos os fatores primos de qualquer natural maior que 1 e conseguimos determinar se ele é primo, podemos implementar a função que transforma um número na soma de 2 números primos, como Goldbach conjecturou. Lembrando que ser par é hipótese da conjectura."
      ],
      "metadata": {
        "id": "T1zszhI8b0-6"
      }
    },
    {
      "cell_type": "code",
      "source": [
        "#Python 3 script to find two primes that add up to N, for N even\n",
        "def goldbach(number):\n",
        "    \n",
        "    #unexpected parameter\n",
        "    if (number < 4 or type(number) != int):\n",
        "        print(\"Expected positive values (natural number, starting at 4)!\")\n",
        "        return\n",
        "    \n",
        "    portion = 2\n",
        "\n",
        "    while (portion <= number):\n",
        "        if (isPrime(portion) and isPrime(number - portion)):\n",
        "            return portion, number - portion \n",
        "   \n",
        "        if (portion == 2): portion += 1\n",
        "        else: portion += 2"
      ],
      "metadata": {
        "id": "JoolgpmkpPvg"
      },
      "execution_count": 5,
      "outputs": []
    },
    {
      "cell_type": "markdown",
      "source": [
        "Output:"
      ],
      "metadata": {
        "id": "armYFVtadeVT"
      }
    },
    {
      "cell_type": "code",
      "source": [
        "from time import time\n",
        "startTime = time()\n",
        "\n",
        "number = 14\n",
        "result = goldbach(number)\n",
        "if (result != None):\n",
        "    print(\"The number \" + str(number) + \" is the result of the sum (of the primes) \" + str(result[0]) + \" + \" + str(result[1]) + '.')\n",
        "\n",
        "endTime = time()\n",
        "print(\"\\n⏱️ Runtime: \" + str(endTime - startTime)[:7] + \" seconds.\")"
      ],
      "metadata": {
        "colab": {
          "base_uri": "https://localhost:8080/"
        },
        "id": "5Fj5gv3wde34",
        "outputId": "38c49545-b228-4c61-84da-59a9cdef9fcc"
      },
      "execution_count": 6,
      "outputs": [
        {
          "output_type": "stream",
          "name": "stdout",
          "text": [
            "The number 14 is the result of the sum (of the primes) 3 + 11.\n",
            "\n",
            "⏱️ Runtime: 0.00406 seconds.\n"
          ]
        }
      ]
    },
    {
      "cell_type": "markdown",
      "source": [
        "Enfim estamos ferramentados com tudo o que precisamos para conseguir resolver o problema principal: transformar um número natural qualquer (chamaremos de $N$), maior que 8, em uma soma de 4 números primos.\n",
        "\n",
        "Como já sabemos tranformar um número par maior que 2 na soma de 2 primos (Goldbach), basta tranformar o número $N$ em 2 parcela pares quaisquer de uma soma e aplicar a função *goldbach* em ambas as parcela, gerando 4 primos. \n",
        "\n",
        "Antes, vamos refletir!\n",
        "\n",
        ">Um número par é caracterizado pela soma de dois números pares ou pela soma de dois números ímpares.\n",
        "\n",
        "> Já um número ímpar surge da soma de um número ímpar com um número par.\n",
        "\n",
        "Então, vamos transformar $N$ em duas parcelas quaisquer de uma soma!\n",
        "\n",
        ">Se $N$ for par, podemos ter:\n",
        ">\n",
        ">1. duas parcela pares; ou\n",
        ">\n",
        ">2. duas parcelas ímpares.\n",
        "\n",
        ">Agora, se $N$ é ímpar, não há outra alternativa a ter:\n",
        ">3. uma parcela ímpar e uma parcela par.\n",
        "\n",
        "No caso **1** basta aplicarmos a conjectura de Goldbach e encontrar os dois primos para a primeira parcela par e os dois últimos primos da segunda parcela par.\n",
        "\n",
        "$ N = [\\text{parcela par}] + [\\text{parcela par}]$\n",
        "\n",
        "$ N = [\\text{parcela primo} + \\text{parcela primo}] + [\\text{parcela primo} + \\text{parcela primo}]$\n",
        "\n",
        "\n",
        "Já no caso **2**, basta transferir uma unidade de uma parcela para a outra. Ambas são ímpares. Quando retiro uma unidade de uma parcela, a trasformo em par. Quando adiciono essa unidade na outra parcela, que também era ímpar, ela passa a ser par. Com isso, recaímos no caso **1**.\n",
        "\n",
        "$ N = (\\text{parcela ímpar}) + \\text{parcela ímpar}$\n",
        "\n",
        "$ N = (\\text{parcela par} + 1) + \\text{parcela ímpar}$\n",
        "\n",
        "$ N = \\text{parcela par} + (1 + \\text{parcela ímpar})$\n",
        "\n",
        "$ N = [\\text{parcela par}] + [\\text{parcela par}]$\n",
        "\n",
        "$ N = [\\text{parcela primo} + \\text{parcela primo}] + [\\text{parcela primo} + \\text{parcela primo}]$\n",
        "\n",
        "\\\\\n",
        "\n",
        "A situação **3** requer uma reflexão maior. Temos um número $N$ ímpar que obrigatoriamente tem que ser transformado em uma soma com um fator ímpar e outro par. Olhando pelo lado positivo, já temos uma parcela par, se aplicarmos a função *goldbach* nessa parcela, teremos duas parcelas primos. Mas, e a outra parcela ímpar? \n",
        "\n",
        "$ N = \\text{parcela ímpar} + \\text{parcela par}$\n",
        "\n",
        "Novamente, um número ímpar só pode ser tranformado na soma de uma parcela ímpar com uma par. Mas o único primo par que existe é o $2$. Logo, já conhecemos a primeira parcela primo deste número. A ideia é a seguinte: fixamos a primeira parcela primo, o $2$, e o que restou desta parte da primeira divisão, que é um número ímpar. Vamos retirar 2 unidades dessa parcela impar gerando outra parcela ímpar, duas unidades menor, e tranferindo para a parcela par, gerando outra parcela par, 2 unidades maior.\n",
        "\n",
        "$ N = \\text{parcela ímpar} + \\text{parcela par}$\n",
        "\n",
        "$ N = 2 + (\\text{parcela ímpar} + 2) + \\text{parcela par}$\n",
        "\n",
        "$ N = 2 + \\text{parcela ímpar} + (2 + \\text{parcela par})$\n",
        "\n",
        "$ N = 2 + \\text{parcela ímpar} + \\text{parcela par}$\n",
        "\n",
        "... \n",
        "\n",
        "Isso se repetirá até que, eventualmente, a parcela ímpar se torne uma parcela primo, e então paramos a tranferência de 2 unidades de uma parcela para outra. Ao final, aplicamos a função de goldbach na parcela par restante para alcançarmos as 4 parcelas primo.\n",
        "\n",
        "$ N = 2 + \\text{parcela primo} + [\\text{parcela par}]$\n",
        "\n",
        "$ N = 2 + \\text{parcela primo} + [\\text{parcela primo} + \\text{parcela primo}]$\n",
        "\n",
        "\\\\\n",
        "\n",
        "No nosso algoritmo, a primeira divisão de parcelas ocorre na metade de $N$.\n",
        "\n",
        "$ N = N/2 + N/2$, para $N$ par, ou\n",
        "\n",
        "$ N = [N/2 - 0.5] + [N/2 + 0.5]$, para $N$ ímpar\n",
        "\n",
        "A seguir, a função *fork* que vai dividir o número passado como parâmetro na sua \"metade\"."
      ],
      "metadata": {
        "id": "tSZ897kqf-5X"
      }
    },
    {
      "cell_type": "code",
      "source": [
        "def fork(number):\n",
        "    if (number % 2 == 0):\n",
        "        return int(number/2), int(number/2)\n",
        "    else:\n",
        "        return int(number/2 - 0.5), int(number/2 + 0.5)"
      ],
      "metadata": {
        "id": "lEdF8pQruKHG"
      },
      "execution_count": 7,
      "outputs": []
    },
    {
      "cell_type": "markdown",
      "source": [
        "Agora, de fato, implementamos tudo o que discutimos:"
      ],
      "metadata": {
        "id": "56vGYNYetnWK"
      }
    },
    {
      "cell_type": "code",
      "source": [
        "#Python 3 script to find 4 prime parcels that add up to a number\n",
        "def fourPrimes(number):\n",
        "\n",
        "    if (number < 8 or type(number) != int):\n",
        "        print(\"Expected positive values (natural number, starting at 8)!\")\n",
        "        return\n",
        "    \n",
        "    parcelTemp1, parcelTemp2 = fork(number)\n",
        "\n",
        "    parity = (parcelTemp1 % 2) + (parcelTemp2 % 2)\n",
        "\n",
        "    if (parity == 0):\n",
        "        prime1, prime2 = goldbach(parcelTemp1)\n",
        "        prime3, prime4 = goldbach(parcelTemp2)\n",
        "    \n",
        "    elif (parity == 2):\n",
        "        parcelTemp1 += 1\n",
        "        parcelTemp2 -= 1\n",
        "        prime1, prime2 = goldbach(parcelTemp1)\n",
        "        prime3, prime4 = goldbach(parcelTemp2)\n",
        "    \n",
        "    else:\n",
        "        if (parcelTemp1 % 2 == 0):\n",
        "            evenParcel = parcelTemp1\n",
        "            oddParcel = parcelTemp2\n",
        "        else:\n",
        "            evenParcel = parcelTemp2\n",
        "            oddParcel = parcelTemp1\n",
        "    \n",
        "        while not (isPrime(oddParcel - 2)):\n",
        "            evenParcel += 2\n",
        "            oddParcel -= 2\n",
        "            \n",
        "        prime1 = 2\n",
        "        prime2 = oddParcel - prime1\n",
        "        prime3, prime4 = goldbach(evenParcel)\n",
        "            \n",
        "    return [str(prime1), str(prime2), str(prime3), str(prime4)]"
      ],
      "metadata": {
        "id": "DzHbg1mkvGm9"
      },
      "execution_count": 8,
      "outputs": []
    },
    {
      "cell_type": "markdown",
      "source": [
        "Output:"
      ],
      "metadata": {
        "id": "_QyAJyFiuroh"
      }
    },
    {
      "cell_type": "code",
      "source": [
        "from time import time\n",
        "startTime = time()\n",
        "\n",
        "number = 5252694\n",
        "result = fourPrimes(number)\n",
        "if (result != None):\n",
        "    print(\"The number \" + str(number) + \" is the result of the sum (of the primes)\" , \" + \".join(result))\n",
        "\n",
        "endTime = time()\n",
        "print(\"\\n⏱️ Runtime: \" + str(endTime - startTime)[:7] + \" seconds.\")"
      ],
      "metadata": {
        "colab": {
          "base_uri": "https://localhost:8080/"
        },
        "id": "cz34VCNhuq66",
        "outputId": "12a11367-3e83-4c7d-b282-fb86d125be21"
      },
      "execution_count": 9,
      "outputs": [
        {
          "output_type": "stream",
          "name": "stdout",
          "text": [
            "The number 5252694 is the result of the sum (of the primes) 29 + 2626319 + 97 + 2626249\n",
            "\n",
            "⏱️ Runtime: 0.00343 seconds.\n"
          ]
        }
      ]
    },
    {
      "cell_type": "markdown",
      "source": [
        "#Resumo\n",
        "---\n",
        "\n",
        "Com esses algoritmos, é possível:\n",
        "\n",
        "1. Encontrar os fatores primos de um número natural; \n",
        "2. Fazer o teste de primalidade de um número natural;\n",
        "3. Tranformar um número natural par, maior que 2, em uma soma com duas parcelas de números primos;\n",
        "4. Encontrar 4 parcelas de números primos, que quando somadas, resultam em um número natural, maior que 8;\n",
        "\n",
        "Implemente os algoritmos acima, troque os parâmetros, teste. Entenda e aprenda.\n",
        "\n",
        "---\n",
        "\n"
      ],
      "metadata": {
        "id": "oEEfCrtpiNK3"
      }
    }
  ]
}
}
      ],
      "metadata": {
        "id": "oEEfCrtpiNK3"
      }
    }
  ]
}
